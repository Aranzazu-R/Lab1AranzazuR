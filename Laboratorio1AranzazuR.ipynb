{
 "cells": [
  {
   "cell_type": "markdown",
   "metadata": {},
   "source": [
    "<center> <img src=\"http://oci02.img.iteso.mx/identidad_de_instancia_2018/ITESO/Logos%20ITESO/Logo-ITESO-Principal.jpg\" align=\"center\" width=\"960\" height=\"480\"/> </center>"
   ]
  },
  {
   "cell_type": "markdown",
   "metadata": {},
   "source": [
    "<center><font color=#555555><font size=6> MAF1731 - Microstructure and Trading Systems </font> <br> <br>\n",
    "    \n",
    "<center><font color=#555555><font size=5> B.Eng Financial Engineering </font> <br> <br> <br> <br>\n",
    "\n",
    "<center><font color=#555555><font size=6> Aranzazú Rendón Gómez </font> <br> <br>\n",
    "   \n",
    "<center> <font color= #555555> <font size = 4> Sep 2022 </a> | <font color= #555555> <font size = 4> Repository: <a href='https://github.com/Aranzazu-R/Lab1AranzazuR.git'>Link</a></font>"
   ]
  },
  {
   "cell_type": "markdown",
   "metadata": {},
   "source": [
    "<hr style=\"border:0.02in solid gray\"> </hr>"
   ]
  },
  {
   "cell_type": "markdown",
   "metadata": {},
   "source": [
    "<center> <font color= #555555> <font size = 6> Lab 1 </font> <br> <br> <font color= #555555> <font size = 5> Inversión Activa vs Inversión Pasiva  </font>"
   ]
  },
  {
   "cell_type": "markdown",
   "metadata": {},
   "source": [
    "<hr style=\"border:0.02in solid gray\"> </hr>"
   ]
  },
  {
   "cell_type": "markdown",
   "metadata": {},
   "source": [
    "<font color= #555555> <font size = 4> Abstract </font>"
   ]
  },
  {
   "cell_type": "markdown",
   "metadata": {},
   "source": [
    "<font color= #6B6B6B> <font size = 3>  Include here a description of the whole work, use no more than 400 words, you can use **Bold** and *Italic* highlights, also you can inclue [links](www.iteso.mx). Usually is a good strategy to generate this text at the very end of the process, since you have to include all aspects of the work, from a brief introduction, to problem definitions and methods used, to finally the results found. </font>"
   ]
  },
  {
   "cell_type": "markdown",
   "metadata": {},
   "source": [
    "# <font color= #6B6B6B> <font size = 6> 1. Introducción </font>"
   ]
  },
  {
   "cell_type": "markdown",
   "metadata": {},
   "source": [
    "<hr style=\"border:0.02in solid gray\"> </hr>"
   ]
  },
  {
   "attachments": {},
   "cell_type": "markdown",
   "metadata": {},
   "source": [
    "\n",
    "\n",
    "Un indice no tiene como objetivo generar ganancia\n",
    "Los indices son informartivos, para representar como esta la situación en un sector en especifico.\n",
    "\n",
    "\n",
    "La mejor estrategia es invertir en indices, pues con una accion individual nunca se va a superar al mercado.\n",
    "\n",
    "En 1971, Wells Fargo establece el primer fondo de bajo costo, o sea que se operaba muy poco, por lo que su precio era bajo.\n",
    "(se opera muy poco por que solamente tiene las mismas acciones que el indice, no se opera para maximizar ganancias ni nada por el estilo)\n",
    "El 19 de octubre del 97 (black Monday) calleron todos los indices (callo el mercado) y tuvo que cerrar\n",
    "Se dieron cuenta que la forma en la que estaban diseñados los fondos (que se puede operar solo al final del día) no era óptima,\n",
    "pues caían los indices y no podian comprar ni vender.\n",
    "\"Super Trust\" podian comprar y vender intradia (close end )y se podian emitir la cantidad que se quisiera de acciones (open end)\n",
    "sin embargo no fueron muy populares, despues de unos años comenzo a pulirese esta estructura.\n",
    "\n",
    "ACTIVELY MANAGED ETFs\n",
    "Los ETF de mnejo activo no deben confundire con los ETF que replican indices, \n",
    "estos, no tienen fondo a replicar, sino que buscan superar el rendimiento del indice\n",
    "Es posible de hacer, pero si un activo baja y debe remplazarse, los costos por las\n",
    "transacciones LOS ENCARECEN\n",
    "\n",
    "VENTAJAS\n",
    "Pueden superar los indices\n",
    "Son menos restrictivos\n",
    "Cobran menos que un fondo\n",
    "Flexibilidad\n",
    "\n",
    "DESVENTAJAS\n",
    "Estan obligados a mostrar que tienen, por lo que la competencia lo pueden replicar\n",
    "Dejar en evidencia las habilidades del administrador :c\n",
    "Los demas inversionistas pueden seguir las estrategias y hacer que las oportunidades desaparezcan\n",
    "El manejo activo encarece"
   ]
  },
  {
   "cell_type": "markdown",
   "metadata": {},
   "source": [
    "# <font color= #6B6B6B> 2. Install/Load Packages and Depedencies </font>"
   ]
  },
  {
   "cell_type": "markdown",
   "metadata": {},
   "source": [
    "<hr style=\"border:0.02in solid gray\"> </hr>"
   ]
  },
  {
   "cell_type": "markdown",
   "metadata": {},
   "source": [
    "## Sección 0 Librerías y dependencias"
   ]
  },
  {
   "cell_type": "markdown",
   "metadata": {},
   "source": [
    "Para el siguiente proyecto se utilizaron las siguientes librerias de python con sus respectivas versiones\n",
    "- Pandas 1.3.2\n",
    "- Numpy 1.19.2\n",
    "- Scipy 1.5.2\n",
    "- Matplotlib 3.4.2\n",
    "- Plotly 4.14.3\n",
    "- Yfinance 0.1.70\n",
    "- os"
   ]
  },
  {
   "cell_type": "code",
   "execution_count": null,
   "metadata": {},
   "outputs": [],
   "source": [
    "import data as dt\n",
    "import functions as fun\n",
    "import visualizations as vs"
   ]
  },
  {
   "cell_type": "markdown",
   "metadata": {},
   "source": []
  },
  {
   "cell_type": "markdown",
   "metadata": {},
   "source": [
    "Debido al perdiodo en que se realizo el experimento, se puede apreciar que la inversión pasiva resulta mucho más rentable, sin embargo, se espera que a la larga y contemplando otros costos (normalmente altos) de manejo de inversiones, este tipo de inversión baje su rentabilidad.\n",
    "La creción de ETF's proviene precisamente de abrir el mercado a pequeños inversionistas que buscan lograr rentabilidad, a largo plazo, es dificíl superar el rendimiento de un índice"
   ]
  },
  {
   "cell_type": "markdown",
   "metadata": {},
   "source": [
    "you cant beat the market\n",
    "Oportunidades en un sector en especifico"
   ]
  },
  {
   "cell_type": "markdown",
   "metadata": {},
   "source": []
  },
  {
   "cell_type": "markdown",
   "metadata": {},
   "source": []
  }
 ],
 "metadata": {
  "kernelspec": {
   "display_name": "Python 3",
   "language": "python",
   "name": "python3"
  },
  "language_info": {
   "codemirror_mode": {
    "name": "ipython",
    "version": 3
   },
   "file_extension": ".py",
   "mimetype": "text/x-python",
   "name": "python",
   "nbconvert_exporter": "python",
   "pygments_lexer": "ipython3",
   "version": "3.8.5"
  }
 },
 "nbformat": 4,
 "nbformat_minor": 4
}
